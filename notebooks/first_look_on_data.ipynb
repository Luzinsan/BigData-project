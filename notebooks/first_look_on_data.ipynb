{
 "cells": [
  {
   "cell_type": "code",
   "execution_count": 1,
   "metadata": {},
   "outputs": [
    {
     "name": "stderr",
     "output_type": "stream",
     "text": [
      "\u001b[2mResolved \u001b[1m139 packages\u001b[0m \u001b[2min 243ms\u001b[0m\u001b[0m\n",
      "\u001b[2mAudited \u001b[1m135 packages\u001b[0m \u001b[2min 1ms\u001b[0m\u001b[0m\n"
     ]
    }
   ],
   "source": [
    "!uv sync"
   ]
  },
  {
   "cell_type": "code",
   "execution_count": 10,
   "metadata": {},
   "outputs": [],
   "source": [
    "from time import time\n",
    "import math\n",
    "import h3\n",
    "import pandas as pd\n",
    "import numpy as np\n",
    "import matplotlib.pyplot as plt\n",
    "from tabulate import tabulate\n",
    "import seaborn as sns"
   ]
  },
  {
   "cell_type": "code",
   "execution_count": null,
   "metadata": {},
   "outputs": [
    {
     "name": "stdout",
     "output_type": "stream",
     "text": [
      "c:\\Users\\Диана\\Documents\\GitHub\\BigData-project\n"
     ]
    }
   ],
   "source": [
    "%pwd\n",
    "%cd ../"
   ]
  },
  {
   "cell_type": "code",
   "execution_count": 14,
   "metadata": {},
   "outputs": [
    {
     "name": "stdout",
     "output_type": "stream",
     "text": [
      "Transactions shape:  (4151096, 13)\n",
      "Moscow shape:  (571107, 4)\n",
      "Target shape:  (157806, 4)\n"
     ]
    }
   ],
   "source": [
    "summary_shape = 0\n",
    "try:\n",
    "    path = './data/transactions.parquet'\n",
    "    best_engine = 'pyarrow'\n",
    "    transactions = pd.read_parquet(path, engine=best_engine)\n",
    "    transactions.name = 'transactions'\n",
    "    transactions[['lat', 'lon']] = transactions['h3_09'].apply(h3.cell_to_latlng).to_list()\n",
    "    print(\"Transactions shape: \", transactions.shape)\n",
    "    summary_shape += transactions.shape[0]\n",
    "\n",
    "    path = './data/moscow.parquet'\n",
    "    best_engine = 'pyarrow'\n",
    "    moscow = pd.read_parquet(path, engine=best_engine)\n",
    "    moscow.name = 'moscow'\n",
    "    moscow = moscow[moscow['tags'].notna()]\n",
    "    print(\"Moscow shape: \", moscow.shape)\n",
    "    summary_shape += moscow.shape[0]\n",
    "\n",
    "    path = './data/target.parquet'\n",
    "    best_engine = 'fastparquet'\n",
    "    target = pd.read_parquet(path, engine=best_engine)\n",
    "    target.name = 'target'\n",
    "    target[['lat', 'lon']] = target['h3_09'].apply(h3.cell_to_latlng).to_list()\n",
    "    print(\"Target shape: \", target.shape)\n",
    "    summary_shape += target.shape[0]\n",
    "except FileNotFoundError:\n",
    "    print(\"Error: File transactions.parquet wasn't found.  Put the proper path.\")"
   ]
  },
  {
   "cell_type": "code",
   "execution_count": 15,
   "metadata": {},
   "outputs": [
    {
     "data": {
      "text/html": [
       "<div>\n",
       "<style scoped>\n",
       "    .dataframe tbody tr th:only-of-type {\n",
       "        vertical-align: middle;\n",
       "    }\n",
       "\n",
       "    .dataframe tbody tr th {\n",
       "        vertical-align: top;\n",
       "    }\n",
       "\n",
       "    .dataframe thead th {\n",
       "        text-align: right;\n",
       "    }\n",
       "</style>\n",
       "<table border=\"1\" class=\"dataframe\">\n",
       "  <thead>\n",
       "    <tr style=\"text-align: right;\">\n",
       "      <th></th>\n",
       "      <th>id</th>\n",
       "      <th>tags</th>\n",
       "      <th>lat</th>\n",
       "      <th>lon</th>\n",
       "    </tr>\n",
       "  </thead>\n",
       "  <tbody>\n",
       "    <tr>\n",
       "      <th>0</th>\n",
       "      <td>1000</td>\n",
       "      <td>[(comment, ООО \"АСП-ГРУПП\", ИНН 7735108290, до...</td>\n",
       "      <td>55.995115</td>\n",
       "      <td>37.207532</td>\n",
       "    </tr>\n",
       "    <tr>\n",
       "      <th>1</th>\n",
       "      <td>26609007</td>\n",
       "      <td>[(ele, 190), (iata, SVO), (icao, UUEE), (name,...</td>\n",
       "      <td>55.987408</td>\n",
       "      <td>37.420944</td>\n",
       "    </tr>\n",
       "    <tr>\n",
       "      <th>2</th>\n",
       "      <td>26999673</td>\n",
       "      <td>[(alt_name, Москва-Октябрьская), (esr:user, 06...</td>\n",
       "      <td>55.778834</td>\n",
       "      <td>37.653721</td>\n",
       "    </tr>\n",
       "    <tr>\n",
       "      <th>16</th>\n",
       "      <td>26999981</td>\n",
       "      <td>[(name, Подрезково), (name:en, Podrezkovo), (p...</td>\n",
       "      <td>55.941962</td>\n",
       "      <td>37.334361</td>\n",
       "    </tr>\n",
       "    <tr>\n",
       "      <th>18</th>\n",
       "      <td>26999985</td>\n",
       "      <td>[(esr:user, 060406), (express:user, 2005090), ...</td>\n",
       "      <td>55.949653</td>\n",
       "      <td>37.299001</td>\n",
       "    </tr>\n",
       "    <tr>\n",
       "      <th>...</th>\n",
       "      <td>...</td>\n",
       "      <td>...</td>\n",
       "      <td>...</td>\n",
       "      <td>...</td>\n",
       "    </tr>\n",
       "    <tr>\n",
       "      <th>8867761</th>\n",
       "      <td>11574072808</td>\n",
       "      <td>[(addr:flats, 1-18), (entrance, staircase), (r...</td>\n",
       "      <td>55.788764</td>\n",
       "      <td>37.639026</td>\n",
       "    </tr>\n",
       "    <tr>\n",
       "      <th>8867766</th>\n",
       "      <td>11574072813</td>\n",
       "      <td>[(barrier, bollard)]</td>\n",
       "      <td>55.788792</td>\n",
       "      <td>37.639404</td>\n",
       "    </tr>\n",
       "    <tr>\n",
       "      <th>8867769</th>\n",
       "      <td>11574072816</td>\n",
       "      <td>[(barrier, lift_gate), (bicycle, yes), (foot, ...</td>\n",
       "      <td>55.788636</td>\n",
       "      <td>37.639270</td>\n",
       "    </tr>\n",
       "    <tr>\n",
       "      <th>8867774</th>\n",
       "      <td>11574347530</td>\n",
       "      <td>[(amenity, library), (contact:telegram, https:...</td>\n",
       "      <td>55.770631</td>\n",
       "      <td>37.675718</td>\n",
       "    </tr>\n",
       "    <tr>\n",
       "      <th>8867775</th>\n",
       "      <td>11559263011</td>\n",
       "      <td>[(entrance, main)]</td>\n",
       "      <td>55.538386</td>\n",
       "      <td>36.990446</td>\n",
       "    </tr>\n",
       "  </tbody>\n",
       "</table>\n",
       "<p>571107 rows × 4 columns</p>\n",
       "</div>"
      ],
      "text/plain": [
       "                  id                                               tags  \\\n",
       "0               1000  [(comment, ООО \"АСП-ГРУПП\", ИНН 7735108290, до...   \n",
       "1           26609007  [(ele, 190), (iata, SVO), (icao, UUEE), (name,...   \n",
       "2           26999673  [(alt_name, Москва-Октябрьская), (esr:user, 06...   \n",
       "16          26999981  [(name, Подрезково), (name:en, Podrezkovo), (p...   \n",
       "18          26999985  [(esr:user, 060406), (express:user, 2005090), ...   \n",
       "...              ...                                                ...   \n",
       "8867761  11574072808  [(addr:flats, 1-18), (entrance, staircase), (r...   \n",
       "8867766  11574072813                               [(barrier, bollard)]   \n",
       "8867769  11574072816  [(barrier, lift_gate), (bicycle, yes), (foot, ...   \n",
       "8867774  11574347530  [(amenity, library), (contact:telegram, https:...   \n",
       "8867775  11559263011                                 [(entrance, main)]   \n",
       "\n",
       "               lat        lon  \n",
       "0        55.995115  37.207532  \n",
       "1        55.987408  37.420944  \n",
       "2        55.778834  37.653721  \n",
       "16       55.941962  37.334361  \n",
       "18       55.949653  37.299001  \n",
       "...            ...        ...  \n",
       "8867761  55.788764  37.639026  \n",
       "8867766  55.788792  37.639404  \n",
       "8867769  55.788636  37.639270  \n",
       "8867774  55.770631  37.675718  \n",
       "8867775  55.538386  36.990446  \n",
       "\n",
       "[571107 rows x 4 columns]"
      ]
     },
     "execution_count": 15,
     "metadata": {},
     "output_type": "execute_result"
    }
   ],
   "source": [
    "moscow"
   ]
  },
  {
   "cell_type": "code",
   "execution_count": 8,
   "metadata": {},
   "outputs": [
    {
     "name": "stdout",
     "output_type": "stream",
     "text": [
      "h3_09                   0\n",
      "customer_id             0\n",
      "datetime_id             0\n",
      "count                   0\n",
      "sum                     0\n",
      "avg                     0\n",
      "min                     0\n",
      "max                     0\n",
      "std               2399551\n",
      "count_distinct          0\n",
      "mcc_code                0\n",
      "lat                     0\n",
      "lon                     0\n",
      "dtype: int64\n"
     ]
    }
   ],
   "source": [
    "print(transactions.isnull().sum())"
   ]
  },
  {
   "cell_type": "markdown",
   "metadata": {},
   "source": [
    "For std column it is ok, according to data desciption we need to change nan to 0 if count_distinct is equal to 1."
   ]
  },
  {
   "cell_type": "code",
   "execution_count": 9,
   "metadata": {},
   "outputs": [
    {
     "name": "stdout",
     "output_type": "stream",
     "text": [
      "h3_09          0\n",
      "customer_id    0\n",
      "lat            0\n",
      "lon            0\n",
      "dtype: int64\n"
     ]
    }
   ],
   "source": [
    "print(target.isnull().sum())"
   ]
  },
  {
   "cell_type": "code",
   "execution_count": 10,
   "metadata": {},
   "outputs": [
    {
     "name": "stdout",
     "output_type": "stream",
     "text": [
      "id      0\n",
      "tags    0\n",
      "lat     0\n",
      "lon     0\n",
      "dtype: int64\n"
     ]
    }
   ],
   "source": [
    "print(moscow.isnull().sum())"
   ]
  },
  {
   "cell_type": "code",
   "execution_count": 16,
   "metadata": {},
   "outputs": [
    {
     "name": "stdout",
     "output_type": "stream",
     "text": [
      "hexses_data shape:  (8154, 3)\n",
      "hexses_target shape:  (1657, 3)\n",
      "Summary shape:  4889820\n"
     ]
    }
   ],
   "source": [
    "def open_lst(path):\n",
    "    with open(path, \"r\") as f:\n",
    "        df = pd.DataFrame({'h3_09': [x.strip() for x in f.readlines()]})\n",
    "        df[['lat', 'lon']] = df['h3_09'].apply(h3.cell_to_latlng).to_list()\n",
    "    return df\n",
    "\n",
    "hexses_data = open_lst('./data/hexses_data.lst')\n",
    "hexses_data.name = 'hexses_data'\n",
    "print(\"hexses_data shape: \", hexses_data.shape)\n",
    "summary_shape += hexses_data.shape[0]\n",
    "hexses_target = open_lst('./data/hexses_target.lst')\n",
    "hexses_target.name = 'hexses_target'\n",
    "print(\"hexses_target shape: \", hexses_target.shape)\n",
    "summary_shape += hexses_target.shape[0]\n",
    "print(\"Summary shape: \", summary_shape)"
   ]
  },
  {
   "cell_type": "code",
   "execution_count": 17,
   "metadata": {},
   "outputs": [
    {
     "data": {
      "text/plain": [
       "np.False_"
      ]
     },
     "execution_count": 17,
     "metadata": {},
     "output_type": "execute_result"
    }
   ],
   "source": [
    "hexses_data.duplicated().any()"
   ]
  },
  {
   "cell_type": "code",
   "execution_count": 17,
   "metadata": {},
   "outputs": [
    {
     "data": {
      "text/plain": [
       "np.False_"
      ]
     },
     "execution_count": 17,
     "metadata": {},
     "output_type": "execute_result"
    }
   ],
   "source": [
    "hexses_target.duplicated().any()"
   ]
  },
  {
   "cell_type": "code",
   "execution_count": 12,
   "metadata": {},
   "outputs": [
    {
     "name": "stdout",
     "output_type": "stream",
     "text": [
      "h3_09    0\n",
      "lat      0\n",
      "lon      0\n",
      "dtype: int64\n"
     ]
    }
   ],
   "source": [
    "print(hexses_data.isnull().sum())"
   ]
  },
  {
   "cell_type": "code",
   "execution_count": 13,
   "metadata": {},
   "outputs": [
    {
     "name": "stdout",
     "output_type": "stream",
     "text": [
      "h3_09    0\n",
      "lat      0\n",
      "lon      0\n",
      "dtype: int64\n"
     ]
    }
   ],
   "source": [
    "print(hexses_target.isnull().sum())"
   ]
  },
  {
   "cell_type": "code",
   "execution_count": 18,
   "metadata": {},
   "outputs": [
    {
     "name": "stdout",
     "output_type": "stream",
     "text": [
      "8157\n"
     ]
    }
   ],
   "source": [
    "#create a new dataset - hexses, that contains data from both datasets hexses_data and hexses_target\n",
    "hexses = pd.concat([hexses_data, hexses_target]).drop_duplicates().reset_index(drop=True)\n",
    "hexses.name = 'hexses'\n",
    "print(hexses.shape[0])"
   ]
  },
  {
   "cell_type": "code",
   "execution_count": 16,
   "metadata": {},
   "outputs": [
    {
     "data": {
      "text/html": [
       "<div>\n",
       "<style scoped>\n",
       "    .dataframe tbody tr th:only-of-type {\n",
       "        vertical-align: middle;\n",
       "    }\n",
       "\n",
       "    .dataframe tbody tr th {\n",
       "        vertical-align: top;\n",
       "    }\n",
       "\n",
       "    .dataframe thead th {\n",
       "        text-align: right;\n",
       "    }\n",
       "</style>\n",
       "<table border=\"1\" class=\"dataframe\">\n",
       "  <thead>\n",
       "    <tr style=\"text-align: right;\">\n",
       "      <th></th>\n",
       "      <th>h3_09</th>\n",
       "      <th>lat</th>\n",
       "      <th>lon</th>\n",
       "    </tr>\n",
       "  </thead>\n",
       "  <tbody>\n",
       "    <tr>\n",
       "      <th>0</th>\n",
       "      <td>89118180927ffff</td>\n",
       "      <td>55.245280</td>\n",
       "      <td>37.361687</td>\n",
       "    </tr>\n",
       "    <tr>\n",
       "      <th>1</th>\n",
       "      <td>89118180d27ffff</td>\n",
       "      <td>55.247340</td>\n",
       "      <td>37.326151</td>\n",
       "    </tr>\n",
       "    <tr>\n",
       "      <th>2</th>\n",
       "      <td>891181820abffff</td>\n",
       "      <td>55.215345</td>\n",
       "      <td>37.163678</td>\n",
       "    </tr>\n",
       "    <tr>\n",
       "      <th>3</th>\n",
       "      <td>891181840a7ffff</td>\n",
       "      <td>55.322955</td>\n",
       "      <td>37.399937</td>\n",
       "    </tr>\n",
       "    <tr>\n",
       "      <th>4</th>\n",
       "      <td>891181844c3ffff</td>\n",
       "      <td>55.309257</td>\n",
       "      <td>37.350979</td>\n",
       "    </tr>\n",
       "    <tr>\n",
       "      <th>...</th>\n",
       "      <td>...</td>\n",
       "      <td>...</td>\n",
       "      <td>...</td>\n",
       "    </tr>\n",
       "    <tr>\n",
       "      <th>8152</th>\n",
       "      <td>8911aa7b6dbffff</td>\n",
       "      <td>55.645766</td>\n",
       "      <td>37.486863</td>\n",
       "    </tr>\n",
       "    <tr>\n",
       "      <th>8153</th>\n",
       "      <td>8911aaccacfffff</td>\n",
       "      <td>55.755457</td>\n",
       "      <td>36.935436</td>\n",
       "    </tr>\n",
       "    <tr>\n",
       "      <th>8154</th>\n",
       "      <td>8911aa4c2a3ffff</td>\n",
       "      <td>55.567224</td>\n",
       "      <td>37.463483</td>\n",
       "    </tr>\n",
       "    <tr>\n",
       "      <th>8155</th>\n",
       "      <td>8911aa63473ffff</td>\n",
       "      <td>55.796397</td>\n",
       "      <td>37.647286</td>\n",
       "    </tr>\n",
       "    <tr>\n",
       "      <th>8156</th>\n",
       "      <td>8911aa79c23ffff</td>\n",
       "      <td>55.687935</td>\n",
       "      <td>37.664232</td>\n",
       "    </tr>\n",
       "  </tbody>\n",
       "</table>\n",
       "<p>8157 rows × 3 columns</p>\n",
       "</div>"
      ],
      "text/plain": [
       "                h3_09        lat        lon\n",
       "0     89118180927ffff  55.245280  37.361687\n",
       "1     89118180d27ffff  55.247340  37.326151\n",
       "2     891181820abffff  55.215345  37.163678\n",
       "3     891181840a7ffff  55.322955  37.399937\n",
       "4     891181844c3ffff  55.309257  37.350979\n",
       "...               ...        ...        ...\n",
       "8152  8911aa7b6dbffff  55.645766  37.486863\n",
       "8153  8911aaccacfffff  55.755457  36.935436\n",
       "8154  8911aa4c2a3ffff  55.567224  37.463483\n",
       "8155  8911aa63473ffff  55.796397  37.647286\n",
       "8156  8911aa79c23ffff  55.687935  37.664232\n",
       "\n",
       "[8157 rows x 3 columns]"
      ]
     },
     "execution_count": 16,
     "metadata": {},
     "output_type": "execute_result"
    }
   ],
   "source": [
    "hexses"
   ]
  },
  {
   "cell_type": "code",
   "execution_count": 21,
   "metadata": {},
   "outputs": [
    {
     "name": "stdout",
     "output_type": "stream",
     "text": [
      "<class 'pandas.core.frame.DataFrame'>\n",
      "RangeIndex: 8157 entries, 0 to 8156\n",
      "Data columns (total 3 columns):\n",
      " #   Column  Non-Null Count  Dtype  \n",
      "---  ------  --------------  -----  \n",
      " 0   h3_09   8157 non-null   object \n",
      " 1   lat     8157 non-null   float64\n",
      " 2   lon     8157 non-null   float64\n",
      "dtypes: float64(2), object(1)\n",
      "memory usage: 191.3+ KB\n"
     ]
    }
   ],
   "source": [
    "hexses.info()"
   ]
  },
  {
   "cell_type": "code",
   "execution_count": 19,
   "metadata": {},
   "outputs": [
    {
     "name": "stdout",
     "output_type": "stream",
     "text": [
      "All values of h3_09 from transactions are in hexses: True\n"
     ]
    }
   ],
   "source": [
    "def check_values_inclusion(source_col: pd.Series, target_col: pd.Series) -> bool:\n",
    "    \n",
    "    non_nan_check = source_col.dropna().isin(target_col.dropna()).all()\n",
    "    \n",
    "    nan_check = (\n",
    "        not source_col.hasnans \n",
    "        or (source_col.hasnans and target_col.isna().any())\n",
    "    )\n",
    "    \n",
    "    return non_nan_check and nan_check\n",
    "\n",
    "result = check_values_inclusion(transactions[\"h3_09\"], hexses[\"h3_09\"])\n",
    "print(f\"All values of h3_09 from transactions are in hexses: {result}\")"
   ]
  },
  {
   "cell_type": "code",
   "execution_count": 20,
   "metadata": {},
   "outputs": [
    {
     "name": "stdout",
     "output_type": "stream",
     "text": [
      "All values of h3_09 from target are in hexses: True\n"
     ]
    }
   ],
   "source": [
    "result = check_values_inclusion(target[\"h3_09\"], hexses[\"h3_09\"])\n",
    "print(f\"All values of h3_09 from target are in hexses: {result}\")"
   ]
  },
  {
   "cell_type": "code",
   "execution_count": 20,
   "metadata": {},
   "outputs": [],
   "source": [
    "moscow['h3_09'] =  moscow[['lat','lon']].apply(lambda row: h3.latlng_to_cell(row['lat'], row['lon'], 9), axis=1) "
   ]
  },
  {
   "cell_type": "code",
   "execution_count": 21,
   "metadata": {},
   "outputs": [
    {
     "name": "stdout",
     "output_type": "stream",
     "text": [
      "All values of h3_09 from moscow are in hexses: False\n"
     ]
    }
   ],
   "source": [
    "result = check_values_inclusion(moscow[\"h3_09\"], hexses[\"h3_09\"])\n",
    "print(f\"All values of h3_09 from moscow are in hexses: {result}\")"
   ]
  }
 ],
 "metadata": {
  "kernelspec": {
   "display_name": "Python 3",
   "language": "python",
   "name": "python3"
  },
  "language_info": {
   "codemirror_mode": {
    "name": "ipython",
    "version": 3
   },
   "file_extension": ".py",
   "mimetype": "text/x-python",
   "name": "python",
   "nbconvert_exporter": "python",
   "pygments_lexer": "ipython3",
   "version": "3.13.1"
  }
 },
 "nbformat": 4,
 "nbformat_minor": 2
}
