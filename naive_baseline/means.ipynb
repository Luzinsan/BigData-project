{
 "cells": [
  {
   "cell_type": "raw",
   "id": "415639f1",
   "metadata": {},
   "source": [
    "Наивное решение - посчитаем в среднем с какой вероятностью клиенты снимали деньги в определенной локации, \n",
    "и будем предсказывать одну и ту же вероятность для всех клиентов в этой локации.\n",
    "\n",
    "Например, если 5% клиентов снимали деньги в банкомате на Павелецком вокзале, \n",
    "будем предсказывать всем клиентам вероятность 0,05 для этой локации.\n",
    "\n",
    "Данные лежат в папке data\n",
    "Результат сохраняется в папку submit"
   ]
  },
  {
   "cell_type": "code",
   "execution_count": 1,
   "id": "35ac590a-9886-4c17-8afb-ff5e829e34fd",
   "metadata": {},
   "outputs": [],
   "source": [
    "from pathlib import Path\n",
    "import pandas as pd\n",
    "import numpy as np\n",
    "import json"
   ]
  },
  {
   "cell_type": "code",
   "execution_count": 2,
   "id": "09989ea8-3e1d-4090-a791-a0c448a48f44",
   "metadata": {},
   "outputs": [],
   "source": [
    "data_root = Path('data')\n",
    "hexses_target_path = data_root / 'hexses_target.lst'\n",
    "hexses_data_path = data_root / 'hexses_data.lst'\n",
    "\n",
    "train_data_fn   = data_root / 'transactions.parquet'\n",
    "train_target_fn = data_root / 'target.parquet'"
   ]
  },
  {
   "cell_type": "code",
   "execution_count": 3,
   "id": "1728137c-c203-4203-8d8a-cc29630b9674",
   "metadata": {},
   "outputs": [],
   "source": [
    "with open(hexses_target_path, \"r\") as f:\n",
    "    hexses_target = [x.strip() for x in f.readlines()]"
   ]
  },
  {
   "cell_type": "code",
   "execution_count": 4,
   "id": "44be83cf-8f76-4e94-a3f3-d8894ef40ec0",
   "metadata": {},
   "outputs": [],
   "source": [
    "with open(hexses_data_path, \"r\") as f:\n",
    "    hexses_data = [x.strip() for x in f.readlines()]"
   ]
  },
  {
   "cell_type": "code",
   "execution_count": 5,
   "id": "b7a9f5eb-32c8-47da-936a-6279514204b1",
   "metadata": {},
   "outputs": [
    {
     "data": {
      "text/plain": [
       "(69337, 1657)"
      ]
     },
     "execution_count": 5,
     "metadata": {},
     "output_type": "execute_result"
    }
   ],
   "source": [
    "target = (\n",
    "    pd.read_parquet(train_target_fn)\n",
    "    .assign(customer_id = lambda x: x.customer_id.astype(int))\n",
    "    .pipe(lambda x: pd.pivot(x.assign(v = 1.), index='customer_id', columns='h3_09', values='v'))\n",
    "    .pipe(lambda x: x.reindex(sorted(x.columns), axis=1)) # Сортируем столбцы по порядку\n",
    "    .sort_values(by='customer_id') # сортируем строки\n",
    "    .fillna(0)\n",
    ")\n",
    "target.shape"
   ]
  },
  {
   "cell_type": "code",
   "execution_count": 6,
   "id": "82b062b4-843a-4c0d-a9ad-0e1d62a14a84",
   "metadata": {},
   "outputs": [],
   "source": [
    "pd.DataFrame({\"target\": target.mean()}).to_json(\"submit/means.json\")"
   ]
  },
  {
   "cell_type": "code",
   "execution_count": null,
   "id": "6a558858-2881-486c-8f6d-6dfc782abbd3",
   "metadata": {},
   "outputs": [],
   "source": []
  }
 ],
 "metadata": {
  "kernelspec": {
   "display_name": "Python 3 (ipykernel)",
   "language": "python",
   "name": "python3"
  },
  "language_info": {
   "codemirror_mode": {
    "name": "ipython",
    "version": 3
   },
   "file_extension": ".py",
   "mimetype": "text/x-python",
   "name": "python",
   "nbconvert_exporter": "python",
   "pygments_lexer": "ipython3",
   "version": "3.10.12"
  }
 },
 "nbformat": 4,
 "nbformat_minor": 5
}
