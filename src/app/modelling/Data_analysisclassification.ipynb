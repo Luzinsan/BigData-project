{
 "cells": [
  {
   "cell_type": "code",
   "execution_count": 21,
   "id": "4c5b4cdc-3614-47ba-9d5e-7024adb2ceb2",
   "metadata": {},
   "outputs": [],
   "source": [
    "from pyspark.sql import SparkSession\n",
    "from pyspark.ml import Pipeline\n",
    "from pyspark.ml.feature import VectorAssembler, StringIndexer, IndexToString, OneHotEncoder\n",
    "from pyspark.ml.classification import LogisticRegression, GBTClassifier\n",
    "from pyspark.ml.evaluation import MulticlassClassificationEvaluator\n",
    "from pyspark.ml.tuning import ParamGridBuilder, CrossValidator\n",
    "# from pyspark.sql import functions as F"
   ]
  },
  {
   "cell_type": "code",
   "execution_count": null,
   "id": "a33aaac3-bb87-4c06-aa81-8f65457c03dc",
   "metadata": {},
   "outputs": [],
   "source": []
  },
  {
   "cell_type": "code",
   "execution_count": 2,
   "id": "8a22d9ac-16ec-471c-85c8-f66d2a7d1f86",
   "metadata": {},
   "outputs": [
    {
     "name": "stderr",
     "output_type": "stream",
     "text": [
      "Warning: Ignoring non-Spark config property: hive.metastore.uris\n",
      "Setting default log level to \"WARN\".\n",
      "To adjust logging level use sc.setLogLevel(newLevel). For SparkR, use setLogLevel(newLevel).\n",
      "25/05/18 15:51:32 WARN NativeCodeLoader: Unable to load native-hadoop library for your platform... using builtin-java classes where applicable\n",
      "25/05/18 15:51:33 WARN Utils: Service 'SparkUI' could not bind on port 4040. Attempting port 4041.\n",
      "25/05/18 15:51:34 WARN DomainSocketFactory: The short-circuit local reads feature cannot be used because libhadoop cannot be loaded.\n",
      "25/05/18 15:51:34 WARN Client: Neither spark.yarn.jars nor spark.yarn.archive is set, falling back to uploading libraries under SPARK_HOME.\n"
     ]
    }
   ],
   "source": [
    "team = \"team3\"\n",
    "warehouse = \"project/hive/warehouse\"\n",
    "\n",
    "spark = SparkSession.builder \\\n",
    "    .appName(f\"{team} - Spark ML\") \\\n",
    "    .master(\"yarn\") \\\n",
    "    .config(\"hive.metastore.uris\", \"thrift://hadoop-02.uni.innopolis.ru:9883\") \\\n",
    "    .config(\"spark.sql.warehouse.dir\", warehouse) \\\n",
    "    .enableHiveSupport() \\\n",
    "    .getOrCreate()"
   ]
  },
  {
   "cell_type": "code",
   "execution_count": 3,
   "id": "ddd6a50c-c116-42f9-b05f-cda3470b6869",
   "metadata": {},
   "outputs": [],
   "source": [
    "transactions = spark.read.format(\"avro\").table(\"team3_projectdb.transactions\")\n",
    "cash_withdrawals = spark.read.format(\"avro\").table(\"team3_projectdb.cash_withdrawals\")\n",
    "locations = spark.read.format(\"avro\").table(\"team3_projectdb.locations\")"
   ]
  },
  {
   "cell_type": "code",
   "execution_count": 4,
   "id": "659bc11b-773c-4cdc-bfde-2ce8f041eef0",
   "metadata": {},
   "outputs": [],
   "source": [
    "data = transactions.join(cash_withdrawals, [\"h3_09\", \"customer_id\"], \"inner\")\n",
    "data = data.join(locations, [\"h3_09\"], \"inner\").drop(\"lat\", \"lon\")"
   ]
  },
  {
   "cell_type": "code",
   "execution_count": 5,
   "id": "b37a0d18-49d4-4512-84b1-03fff4476172",
   "metadata": {},
   "outputs": [],
   "source": [
    "original_features = [\n",
    "    \"datetime_id\", \"count\", \"sum\", \n",
    "    \"avg\", \"min\", \"max\", \"std\",\n",
    "    \"count_distinct\"\n",
    "]"
   ]
  },
  {
   "cell_type": "code",
   "execution_count": 6,
   "id": "7b16cf13-e795-4035-99ad-bd864716acf4",
   "metadata": {},
   "outputs": [],
   "source": [
    "data = data.na.drop(subset=original_features)"
   ]
  },
  {
   "cell_type": "code",
   "execution_count": 20,
   "id": "2f5a0dbe-360b-42f0-aa02-c93b2e4076c5",
   "metadata": {},
   "outputs": [],
   "source": [
    "string_columns = [\"h3_09\"]"
   ]
  },
  {
   "cell_type": "code",
   "execution_count": 7,
   "id": "ec8a5aca-6dd5-4844-89f4-6e6ed499350b",
   "metadata": {},
   "outputs": [
    {
     "name": "stderr",
     "output_type": "stream",
     "text": [
      "                                                                                \r"
     ]
    }
   ],
   "source": [
    "label_indexer = StringIndexer(inputCol=\"h3_09\", outputCol=\"label\").fit(data)\n",
    "data = label_indexer.transform(data)"
   ]
  },
  {
   "cell_type": "code",
   "execution_count": 29,
   "id": "0e9cf062-22aa-4c67-a232-5024f31a7021",
   "metadata": {},
   "outputs": [],
   "source": [
    "encoders = [\n",
    "    OneHotEncoder(inputCol=f\"label\", outputCol=f\"{column}_encoded\")\n",
    "    for column in string_columns\n",
    "]"
   ]
  },
  {
   "cell_type": "code",
   "execution_count": 30,
   "id": "f3747cfe-6c5f-4f9e-a410-8232bc43adfb",
   "metadata": {},
   "outputs": [],
   "source": [
    "encoding_pipeline = Pipeline(stages=encoders)\n",
    "encoded_data = encoding_pipeline.fit(data).transform(data)"
   ]
  },
  {
   "cell_type": "code",
   "execution_count": 31,
   "id": "121b0e3b-10cb-42a4-87c9-272178c96d78",
   "metadata": {},
   "outputs": [
    {
     "data": {
      "text/plain": [
       "Row(h3_09='8911aa7a6d3ffff', customer_id=107, transaction_pk=61, count=4, sum=3630.75, avg=907.6875, min=423.0, max=1825.9200439453125, std=640.25927734375, count_distinct=2, datetime_id=3, mcc_code=13, label=122.0)"
      ]
     },
     "execution_count": 31,
     "metadata": {},
     "output_type": "execute_result"
    }
   ],
   "source": [
    "data.head()"
   ]
  },
  {
   "cell_type": "code",
   "execution_count": 32,
   "id": "d7ac5c3b-9961-4a09-bb55-3c6b1b6e3e3c",
   "metadata": {},
   "outputs": [
    {
     "data": {
      "text/plain": [
       "DataFrame[customer_id: bigint, transaction_pk: bigint, count: smallint, sum: float, avg: float, min: float, max: float, std: float, count_distinct: smallint, datetime_id: smallint, mcc_code: smallint, label: double]"
      ]
     },
     "execution_count": 32,
     "metadata": {},
     "output_type": "execute_result"
    }
   ],
   "source": [
    "data.drop(\"h3_09\")"
   ]
  },
  {
   "cell_type": "code",
   "execution_count": 33,
   "id": "f9f3bae7-026d-4ab1-8508-40afc3fec215",
   "metadata": {},
   "outputs": [],
   "source": [
    "mcc_indexer = StringIndexer(inputCol=\"mcc_code\", outputCol=\"mcc_code_index\")"
   ]
  },
  {
   "cell_type": "code",
   "execution_count": 34,
   "id": "422500f0-f199-4f6d-8e50-a3b1d9439949",
   "metadata": {},
   "outputs": [],
   "source": [
    "feature_cols = original_features + [\"mcc_code_index\"]\n",
    "assembler = VectorAssembler(\n",
    "    inputCols=feature_cols,\n",
    "    outputCol=\"features\",\n",
    "    handleInvalid=\"skip\"\n",
    ")"
   ]
  },
  {
   "cell_type": "code",
   "execution_count": 35,
   "id": "2abe8d3e-8014-4b73-b569-ceb1cb60bf69",
   "metadata": {},
   "outputs": [],
   "source": [
    "lr = LogisticRegression(\n",
    "    featuresCol=\"features\",\n",
    "    labelCol=\"label\",\n",
    "    predictionCol=\"prediction\",\n",
    "    maxIter=10\n",
    ")"
   ]
  },
  {
   "cell_type": "code",
   "execution_count": 36,
   "id": "d8f8fa1e-827f-422e-9da9-2aa3a8805bcf",
   "metadata": {},
   "outputs": [],
   "source": [
    "gbt = GBTClassifier(\n",
    "    featuresCol=\"features\",\n",
    "    labelCol=\"label\",\n",
    "    predictionCol=\"prediction\",\n",
    "    maxIter=50,\n",
    "    maxDepth=5\n",
    ")"
   ]
  },
  {
   "cell_type": "code",
   "execution_count": 37,
   "id": "762335d3-f107-46ae-b11b-80c8329d3b5e",
   "metadata": {},
   "outputs": [],
   "source": [
    "pipeline_lr = Pipeline(stages=[mcc_indexer, assembler, lr])\n",
    "pipeline_gbt = Pipeline(stages=[mcc_indexer, assembler, gbt])"
   ]
  },
  {
   "cell_type": "code",
   "execution_count": 38,
   "id": "3a2ef9ea-dce4-4002-91bc-8ff5da209d8d",
   "metadata": {},
   "outputs": [],
   "source": [
    "train_data, test_data = data.randomSplit([0.8, 0.2], seed=42)"
   ]
  },
  {
   "cell_type": "code",
   "execution_count": 39,
   "id": "03e0b5c4-4a1a-4767-be6c-7861c4808d0a",
   "metadata": {},
   "outputs": [
    {
     "name": "stderr",
     "output_type": "stream",
     "text": [
      "                                                                                \r"
     ]
    },
    {
     "data": {
      "text/plain": [
       "Row(h3_09='8911818610bffff', customer_id=1924, transaction_pk=1143088, count=2, sum=6395.0, avg=3197.5, min=1198.0, max=5197.0, std=2827.719970703125, count_distinct=2, datetime_id=2, mcc_code=10, label=832.0)"
      ]
     },
     "execution_count": 39,
     "metadata": {},
     "output_type": "execute_result"
    }
   ],
   "source": [
    "train_data.head()"
   ]
  },
  {
   "cell_type": "code",
   "execution_count": 40,
   "id": "aef82f69-73e1-42ab-b0b0-1688a59bf6dc",
   "metadata": {},
   "outputs": [],
   "source": [
    "paramGrid_gbt = ParamGridBuilder() \\\n",
    "    .addGrid(gbt.maxDepth, [3, 5]) \\\n",
    "    .addGrid(gbt.maxIter, [50, 100]) \\\n",
    "    .build()"
   ]
  },
  {
   "cell_type": "code",
   "execution_count": 41,
   "id": "571e1ee5-39e7-4c51-816e-bb9a91b107cc",
   "metadata": {},
   "outputs": [],
   "source": [
    "evaluator_accuracy = MulticlassClassificationEvaluator(\n",
    "    labelCol=\"label\",\n",
    "    predictionCol=\"prediction\",\n",
    "    metricName=\"accuracy\"\n",
    ")\n",
    "\n",
    "evaluator_f1 = MulticlassClassificationEvaluator(\n",
    "    labelCol=\"label\",\n",
    "    predictionCol=\"prediction\",\n",
    "    metricName=\"f1\"\n",
    ")"
   ]
  },
  {
   "cell_type": "code",
   "execution_count": 42,
   "id": "dbb4db29-9a4f-46e8-b978-18d440fafc74",
   "metadata": {},
   "outputs": [],
   "source": [
    "cv_gbt = CrossValidator(\n",
    "    estimator=pipeline_gbt,\n",
    "    estimatorParamMaps=paramGrid_gbt,\n",
    "    evaluator=evaluator_f1,\n",
    "    numFolds=3,\n",
    "    parallelism=4\n",
    ")"
   ]
  },
  {
   "cell_type": "code",
   "execution_count": 43,
   "id": "fbbf65ff-9d0a-4ee3-9a4b-172a1af9cef4",
   "metadata": {},
   "outputs": [
    {
     "name": "stderr",
     "output_type": "stream",
     "text": [
      "                                                                                \r"
     ]
    }
   ],
   "source": [
    "lr_model = pipeline_lr.fit(train_data)"
   ]
  },
  {
   "cell_type": "code",
   "execution_count": 46,
   "id": "2ce44e2c-ede1-420d-abdd-8300770f95fe",
   "metadata": {},
   "outputs": [],
   "source": [
    "# cv_gbt_model = cv_gbt.fit(train_data)"
   ]
  },
  {
   "cell_type": "code",
   "execution_count": 44,
   "id": "a35fd552-2e61-4fe8-a54b-08e17e308743",
   "metadata": {},
   "outputs": [],
   "source": [
    "lr_predictions = lr_model.transform(test_data)"
   ]
  },
  {
   "cell_type": "code",
   "execution_count": null,
   "id": "49d825d4-1e0b-4fa1-aa0d-e7b8ab04674c",
   "metadata": {},
   "outputs": [],
   "source": [
    "gbt_predictions = cv_gbt_model.transform(test_data)"
   ]
  },
  {
   "cell_type": "code",
   "execution_count": null,
   "id": "b534a07a-8c7a-4a64-82d8-b7b06e66aa9a",
   "metadata": {},
   "outputs": [],
   "source": []
  },
  {
   "cell_type": "code",
   "execution_count": 47,
   "id": "03d5916d-a5cc-4e68-a6ce-3d72c099aca8",
   "metadata": {},
   "outputs": [
    {
     "name": "stdout",
     "output_type": "stream",
     "text": [
      "Logistic Regression Results:\n"
     ]
    },
    {
     "name": "stderr",
     "output_type": "stream",
     "text": [
      "                                                                                \r"
     ]
    },
    {
     "name": "stdout",
     "output_type": "stream",
     "text": [
      "Accuracy: 0.16850529958901148\n"
     ]
    },
    {
     "name": "stderr",
     "output_type": "stream",
     "text": [
      "[Stage 110:==========================================>              (3 + 1) / 4]\r"
     ]
    },
    {
     "name": "stdout",
     "output_type": "stream",
     "text": [
      "F1-Score: 0.055522637971441635\n",
      "\n"
     ]
    },
    {
     "name": "stderr",
     "output_type": "stream",
     "text": [
      "                                                                                \r"
     ]
    }
   ],
   "source": [
    "print(\"Logistic Regression Results:\")\n",
    "print(f\"Accuracy: {evaluator_accuracy.evaluate(lr_predictions)}\")\n",
    "print(f\"F1-Score: {evaluator_f1.evaluate(lr_predictions)}\\n\")\n",
    "\n",
    "print(\"GBT Results:\")\n",
    "print(f\"Accuracy: {evaluator_accuracy.evaluate(gbt_predictions)}\")\n",
    "print(f\"F1-Score: {evaluator_f1.evaluate(gbt_predictions)}\")"
   ]
  },
  {
   "cell_type": "code",
   "execution_count": null,
   "id": "d263793a-7eeb-41a7-884c-a3c8eb759779",
   "metadata": {},
   "outputs": [],
   "source": [
    "label_converter = IndexToString(\n",
    "    inputCol=\"prediction\",\n",
    "    outputCol=\"predicted_h3_09\",\n",
    "    labels=label_indexer.labels\n",
    ")\n",
    "\n",
    "final_predictions = label_converter.transform(gbt_predictions)\n",
    "final_predictions.select(\"h3_09\", \"predicted_h3_09\").show(5)"
   ]
  },
  {
   "cell_type": "code",
   "execution_count": null,
   "id": "546c271e-aa8f-4d0b-9d3e-0ddeca6e2493",
   "metadata": {},
   "outputs": [],
   "source": [
    "spark.stop()"
   ]
  },
  {
   "cell_type": "code",
   "execution_count": null,
   "id": "3b01f166-0c42-419d-b29b-e091ac43f1de",
   "metadata": {},
   "outputs": [],
   "source": []
  }
 ],
 "metadata": {
  "kernelspec": {
   "display_name": "Pyspark 3.11",
   "language": "python",
   "name": "python3.11"
  },
  "language_info": {
   "codemirror_mode": {
    "name": "ipython",
    "version": 3
   },
   "file_extension": ".py",
   "mimetype": "text/x-python",
   "name": "python",
   "nbconvert_exporter": "python",
   "pygments_lexer": "ipython3",
   "version": "3.11.7"
  }
 },
 "nbformat": 4,
 "nbformat_minor": 5
}
