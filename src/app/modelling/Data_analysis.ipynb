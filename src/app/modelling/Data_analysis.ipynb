{
 "cells": [
  {
   "cell_type": "code",
   "execution_count": 1,
   "id": "21c42eff-2e44-4629-82b8-01c405b79fa9",
   "metadata": {},
   "outputs": [],
   "source": [
    "from pyspark.sql import SparkSession\n",
    "from pyspark.ml import Pipeline\n",
    "from pyspark.ml.feature import VectorAssembler, StringIndexer\n",
    "from pyspark.ml.regression import LinearRegression, GBTRegressor\n",
    "from pyspark.ml.evaluation import RegressionEvaluator\n",
    "from pyspark.ml.tuning import ParamGridBuilder, CrossValidator\n",
    "from pyspark.sql import functions as F"
   ]
  },
  {
   "cell_type": "code",
   "execution_count": 2,
   "id": "adf8710b-c2c4-471c-a891-06db52722b81",
   "metadata": {},
   "outputs": [
    {
     "name": "stderr",
     "output_type": "stream",
     "text": [
      "Warning: Ignoring non-Spark config property: hive.metastore.uris\n",
      "Setting default log level to \"WARN\".\n",
      "To adjust logging level use sc.setLogLevel(newLevel). For SparkR, use setLogLevel(newLevel).\n",
      "25/05/18 15:50:40 WARN NativeCodeLoader: Unable to load native-hadoop library for your platform... using builtin-java classes where applicable\n",
      "25/05/18 15:50:41 WARN Utils: Service 'SparkUI' could not bind on port 4040. Attempting port 4041.\n",
      "25/05/18 15:50:42 WARN DomainSocketFactory: The short-circuit local reads feature cannot be used because libhadoop cannot be loaded.\n",
      "25/05/18 15:50:42 WARN Client: Neither spark.yarn.jars nor spark.yarn.archive is set, falling back to uploading libraries under SPARK_HOME.\n"
     ]
    }
   ],
   "source": [
    "team = \"team3\"\n",
    "warehouse = \"project/hive/warehouse\"\n",
    "\n",
    "spark = SparkSession.builder \\\n",
    "    .appName(f\"{team} - Spark ML\") \\\n",
    "    .master(\"yarn\") \\\n",
    "    .config(\"hive.metastore.uris\", \"thrift://hadoop-02.uni.innopolis.ru:9883\") \\\n",
    "    .config(\"spark.sql.warehouse.dir\", warehouse) \\\n",
    "    .enableHiveSupport() \\\n",
    "    .getOrCreate()"
   ]
  },
  {
   "cell_type": "code",
   "execution_count": 151,
   "id": "d7663f13-86a7-4242-91d1-8349f7deabe7",
   "metadata": {},
   "outputs": [],
   "source": [
    "transactions = spark.read.format(\"avro\").table(\"team3_projectdb.transactions\")\n",
    "cash_withdrawals = spark.read.format(\"avro\").table(\"team3_projectdb.cash_withdrawals\")\n",
    "locations = spark.read.format(\"avro\").table(\"team3_projectdb.locations\")"
   ]
  },
  {
   "cell_type": "code",
   "execution_count": 152,
   "id": "d321a1a0-e4bd-4f64-814e-0c4244c4f32e",
   "metadata": {},
   "outputs": [],
   "source": [
    "data = transactions.join(cash_withdrawals, [\"h3_09\", \"customer_id\"], \"inner\")\n",
    "data = data.join(locations, [\"h3_09\"], \"inner\").drop(\"h3_09\")"
   ]
  },
  {
   "cell_type": "code",
   "execution_count": 153,
   "id": "e9317315-d16f-44d3-ba40-afd8d8bf7a61",
   "metadata": {},
   "outputs": [],
   "source": [
    "original_features = [\n",
    "    \"datetime_id\", \"count\", \"sum\", \n",
    "    \"avg\", \"min\", \"max\", \"std\",\n",
    "    \"count_distinct\"\n",
    "]"
   ]
  },
  {
   "cell_type": "code",
   "execution_count": 154,
   "id": "6ed7918d-ccba-4611-812e-19edbdb2e0c0",
   "metadata": {},
   "outputs": [],
   "source": [
    "data = data.na.drop(subset=original_features)"
   ]
  },
  {
   "cell_type": "code",
   "execution_count": 155,
   "id": "405a67f3-ec49-48dd-b050-dd65f821654c",
   "metadata": {},
   "outputs": [],
   "source": [
    "indexer = StringIndexer(inputCol=\"mcc_code\", outputCol=\"mcc_code_index\")"
   ]
  },
  {
   "cell_type": "code",
   "execution_count": 156,
   "id": "aa8e3f84-6f34-4c86-bf1b-12cf66bad62c",
   "metadata": {},
   "outputs": [],
   "source": [
    "feature_cols = original_features + [\"mcc_code_index\"]\n",
    "assembler = VectorAssembler(\n",
    "    inputCols=feature_cols,\n",
    "    outputCol=\"features\",\n",
    "    handleInvalid=\"skip\" \n",
    ")"
   ]
  },
  {
   "cell_type": "code",
   "execution_count": 157,
   "id": "f2c899a3-7ca7-48aa-b8a6-8337f14da569",
   "metadata": {},
   "outputs": [],
   "source": [
    "lr_lat = LinearRegression(\n",
    "    featuresCol=\"features\",\n",
    "    labelCol=\"lat\",\n",
    "    predictionCol=\"predicted_lat\",\n",
    "    elasticNetParam=0.5 \n",
    ")\n",
    "\n",
    "lr_lon = LinearRegression(\n",
    "    featuresCol=\"features\",\n",
    "    labelCol=\"lon\",\n",
    "    predictionCol=\"predicted_lon\",\n",
    "    elasticNetParam=0.5\n",
    ")"
   ]
  },
  {
   "cell_type": "code",
   "execution_count": 158,
   "id": "8b8e1078-7547-4701-9d18-854ed54cbdce",
   "metadata": {},
   "outputs": [],
   "source": [
    "pipeline_lat = Pipeline(stages=[indexer, assembler, lr_lat])\n",
    "pipeline_lon = Pipeline(stages=[indexer, assembler, lr_lon])"
   ]
  },
  {
   "cell_type": "code",
   "execution_count": 159,
   "id": "28ed7888-a622-448e-9ab1-e7a3232a7a26",
   "metadata": {},
   "outputs": [],
   "source": [
    "train_data, test_data = data.randomSplit([0.8, 0.2], seed=42)"
   ]
  },
  {
   "cell_type": "code",
   "execution_count": 160,
   "id": "59bd0d20-2772-4d36-a916-487f98648e1e",
   "metadata": {},
   "outputs": [],
   "source": [
    "paramGrid_lat = ParamGridBuilder() \\\n",
    "    .addGrid(lr_lat.regParam, [0.01, 0.1]) \\\n",
    "    .addGrid(lr_lat.elasticNetParam, [0.0, 0.5, 1.0]) \\\n",
    "    .build()"
   ]
  },
  {
   "cell_type": "code",
   "execution_count": 161,
   "id": "e0bcd5f0-923d-4947-b8bc-cba55e219bac",
   "metadata": {},
   "outputs": [],
   "source": [
    "paramGrid_lon = ParamGridBuilder() \\\n",
    "    .addGrid(lr_lon.regParam, [0.01, 0.1]) \\\n",
    "    .addGrid(lr_lon.elasticNetParam, [0.0, 0.5, 1.0]) \\\n",
    "    .build()"
   ]
  },
  {
   "cell_type": "code",
   "execution_count": 163,
   "id": "85e1c08d-162b-4694-a9b4-4b3334937a30",
   "metadata": {},
   "outputs": [],
   "source": [
    "evaluator_lat = RegressionEvaluator(\n",
    "    labelCol=\"lat\",\n",
    "    predictionCol=\"predicted_lat\",\n",
    "    metricName=\"rmse\"\n",
    ")"
   ]
  },
  {
   "cell_type": "code",
   "execution_count": 164,
   "id": "3590eef6-3a68-4819-936d-841816271f59",
   "metadata": {},
   "outputs": [],
   "source": [
    "evaluator_lon = RegressionEvaluator(\n",
    "    labelCol=\"lon\",\n",
    "    predictionCol=\"predicted_lon\",\n",
    "    metricName=\"rmse\"\n",
    ")"
   ]
  },
  {
   "cell_type": "code",
   "execution_count": 165,
   "id": "1d559f61-08e8-424e-a579-964dc2a51f13",
   "metadata": {},
   "outputs": [],
   "source": [
    "cv_lat = CrossValidator(\n",
    "    estimator=pipeline_lat,\n",
    "    estimatorParamMaps=paramGrid_lat,\n",
    "    evaluator=evaluator_lat,\n",
    "    numFolds=3,\n",
    "    parallelism=4\n",
    ")"
   ]
  },
  {
   "cell_type": "code",
   "execution_count": 169,
   "id": "43983261-47e0-4adc-b58b-9a8c5a929ea1",
   "metadata": {},
   "outputs": [],
   "source": [
    "cv_lon = CrossValidator(\n",
    "    estimator=pipeline_lon,\n",
    "    estimatorParamMaps=paramGrid_lon,\n",
    "    evaluator=evaluator_lon,\n",
    "    numFolds=3,\n",
    "    parallelism=4\n",
    ")"
   ]
  },
  {
   "cell_type": "code",
   "execution_count": 167,
   "id": "b3724493-bf03-403a-ad2d-79629d86a38f",
   "metadata": {},
   "outputs": [
    {
     "name": "stderr",
     "output_type": "stream",
     "text": [
      "                                                                                \r"
     ]
    }
   ],
   "source": [
    "cv_model_lat = cv_lat.fit(train_data)"
   ]
  },
  {
   "cell_type": "code",
   "execution_count": 170,
   "id": "b37872e5-5933-4830-8000-83ad35d864a8",
   "metadata": {},
   "outputs": [
    {
     "name": "stderr",
     "output_type": "stream",
     "text": [
      "                                                                                \r"
     ]
    }
   ],
   "source": [
    "cv_model_lon = cv_lon.fit(train_data)"
   ]
  },
  {
   "cell_type": "code",
   "execution_count": 171,
   "id": "b0f4b648-6389-47ae-a7d3-ef6b6eb437a5",
   "metadata": {},
   "outputs": [
    {
     "name": "stderr",
     "output_type": "stream",
     "text": [
      "[Stage 329:==========================================>              (3 + 1) / 4]\r"
     ]
    },
    {
     "name": "stdout",
     "output_type": "stream",
     "text": [
      "RMSE for latitude: 0.08183622133269247\n"
     ]
    },
    {
     "name": "stderr",
     "output_type": "stream",
     "text": [
      "                                                                                \r"
     ]
    }
   ],
   "source": [
    "predictions_lat = cv_model_lat.transform(test_data)\n",
    "rmse_lat = evaluator_lat.evaluate(predictions_lat)\n",
    "print(f\"RMSE for latitude: {rmse_lat}\")"
   ]
  },
  {
   "cell_type": "code",
   "execution_count": 172,
   "id": "1fcaa135-46cb-480c-93f8-35f88034e9dd",
   "metadata": {},
   "outputs": [
    {
     "name": "stderr",
     "output_type": "stream",
     "text": [
      "[Stage 332:==========================================>              (3 + 1) / 4]\r"
     ]
    },
    {
     "name": "stdout",
     "output_type": "stream",
     "text": [
      "RMSE for longtitude: 0.12519049913288113\n"
     ]
    },
    {
     "name": "stderr",
     "output_type": "stream",
     "text": [
      "                                                                                \r"
     ]
    }
   ],
   "source": [
    "predictions_lon = cv_model_lon.transform(test_data)\n",
    "rmse_lon = evaluator_lon.evaluate(predictions_lon)\n",
    "print(f\"RMSE for longtitude: {rmse_lon}\")"
   ]
  },
  {
   "cell_type": "code",
   "execution_count": 182,
   "id": "bdfdf594-c177-44b2-bdfd-70d21cbee658",
   "metadata": {},
   "outputs": [],
   "source": [
    "gbt_lat = GBTRegressor(\n",
    "        featuresCol=\"features\",\n",
    "        labelCol=\"lat\",\n",
    "        predictionCol=\"predicted_lat\",\n",
    "        maxIter=50,\n",
    "        maxDepth=5,\n",
    "        stepSize=0.1\n",
    "    )\n",
    "gbt_lon = GBTRegressor(\n",
    "        featuresCol=\"features\",\n",
    "        labelCol=\"lon\",\n",
    "        predictionCol=\"predicted_lon\",\n",
    "        maxIter=50,\n",
    "        maxDepth=5,\n",
    "        stepSize=0.1\n",
    "    )"
   ]
  },
  {
   "cell_type": "code",
   "execution_count": 185,
   "id": "90571d70-bf7c-4efb-8823-7e9fc7902867",
   "metadata": {},
   "outputs": [],
   "source": [
    "pipeline_gbt_lat = Pipeline(stages=[indexer, assembler, gbt_lat])\n",
    "pipeline_gbt_lon = Pipeline(stages=[indexer, assembler, gbt_lon])"
   ]
  },
  {
   "cell_type": "code",
   "execution_count": 186,
   "id": "8372f2d4-6673-4104-9dd5-6e6386a47f10",
   "metadata": {},
   "outputs": [],
   "source": [
    "gbt_model_lat = pipeline_gbt_lat.getStages()[-1]\n",
    "gbt_model_lon = pipeline_gbt_lon.getStages()[-1]"
   ]
  },
  {
   "cell_type": "code",
   "execution_count": 187,
   "id": "aabc9e40-29d7-4828-9dde-176c787d31f6",
   "metadata": {},
   "outputs": [],
   "source": [
    "paramGrid_lat_gbt = ParamGridBuilder() \\\n",
    "    .addGrid(gbt_model_lat.maxDepth, [3, 5]) \\\n",
    "    .addGrid(gbt_model_lat.maxIter, [50, 100]) \\\n",
    "    .addGrid(gbt_model_lat.stepSize, [0.05, 0.1]) \\\n",
    "    .build()\n",
    "paramGrid_lon_gbt = ParamGridBuilder() \\\n",
    "    .addGrid(gbt_model_lon.maxDepth, [3, 5]) \\\n",
    "    .addGrid(gbt_model_lon.maxIter, [50, 100]) \\\n",
    "    .addGrid(gbt_model_lon.stepSize, [0.05, 0.1]) \\\n",
    "    .build()"
   ]
  },
  {
   "cell_type": "code",
   "execution_count": 188,
   "id": "d13073f0-f3d8-481a-838f-aec7d130708b",
   "metadata": {},
   "outputs": [],
   "source": [
    "cv_gbt_lat = CrossValidator(\n",
    "    estimator=pipeline_gbt_lat,\n",
    "    estimatorParamMaps=paramGrid_lat_gbt,\n",
    "    evaluator=evaluator_lat,\n",
    "    numFolds=3,\n",
    "    parallelism=4\n",
    ")"
   ]
  },
  {
   "cell_type": "code",
   "execution_count": 189,
   "id": "747d5c70-a851-4011-9d2e-cb806da20892",
   "metadata": {},
   "outputs": [],
   "source": [
    "cv_gbt_lon = CrossValidator(\n",
    "    estimator=pipeline_gbt_lon,\n",
    "    estimatorParamMaps=paramGrid_lon_gbt,\n",
    "    evaluator=evaluator_lon,\n",
    "    numFolds=3,\n",
    "    parallelism=4\n",
    ")"
   ]
  },
  {
   "cell_type": "code",
   "execution_count": 190,
   "id": "43a205c5-5c0f-4dfd-9578-8978a3b57218",
   "metadata": {},
   "outputs": [
    {
     "name": "stderr",
     "output_type": "stream",
     "text": [
      "                                                                                \r"
     ]
    }
   ],
   "source": [
    "cv_model_lat_gbt = cv_gbt_lat.fit(train_data)"
   ]
  },
  {
   "cell_type": "code",
   "execution_count": 191,
   "id": "7c052f21-53c9-412e-9fa6-ff55c0dac8b6",
   "metadata": {},
   "outputs": [
    {
     "name": "stderr",
     "output_type": "stream",
     "text": [
      "                                                                                \r"
     ]
    }
   ],
   "source": [
    "cv_model_lon_gbt = cv_gbt_lon.fit(train_data)"
   ]
  },
  {
   "cell_type": "code",
   "execution_count": 192,
   "id": "512cd176-c9aa-4b40-a264-17f558e8f4ea",
   "metadata": {},
   "outputs": [
    {
     "name": "stderr",
     "output_type": "stream",
     "text": [
      "[Stage 30541:=========================================>             (3 + 1) / 4]\r"
     ]
    },
    {
     "name": "stdout",
     "output_type": "stream",
     "text": [
      "RMSE for latitude: 0.08168545270674633\n"
     ]
    },
    {
     "name": "stderr",
     "output_type": "stream",
     "text": [
      "                                                                                \r"
     ]
    }
   ],
   "source": [
    "predictions_lat_gbt = cv_model_lat_gbt.transform(test_data)\n",
    "rmse_lat_gbt = evaluator_lat.evaluate(predictions_lat_gbt)\n",
    "print(f\"RMSE for latitude: {rmse_lat_gbt}\")"
   ]
  },
  {
   "cell_type": "code",
   "execution_count": 193,
   "id": "164000f9-3e43-49d7-85b9-860131aee9e2",
   "metadata": {},
   "outputs": [
    {
     "name": "stderr",
     "output_type": "stream",
     "text": [
      "[Stage 30544:=========================================>             (3 + 1) / 4]\r"
     ]
    },
    {
     "name": "stdout",
     "output_type": "stream",
     "text": [
      "RMSE for latitude: 0.12390077770217837\n"
     ]
    },
    {
     "name": "stderr",
     "output_type": "stream",
     "text": [
      "                                                                                \r"
     ]
    }
   ],
   "source": [
    "predictions_lon_gbt = cv_model_lon_gbt.transform(test_data)\n",
    "rmse_lon_gbt = evaluator_lon.evaluate(predictions_lon_gbt)\n",
    "print(f\"RMSE for latitude: {rmse_lon_gbt}\")"
   ]
  },
  {
   "cell_type": "code",
   "execution_count": 3,
   "id": "ff173924-a67c-49ae-bb10-4a3cf2469bc2",
   "metadata": {},
   "outputs": [],
   "source": [
    "spark.stop()"
   ]
  },
  {
   "cell_type": "code",
   "execution_count": 197,
   "id": "fa4484fb-4641-43f0-8387-a3d494d0bb8d",
   "metadata": {},
   "outputs": [],
   "source": [
    "sc.stop()"
   ]
  },
  {
   "cell_type": "code",
   "execution_count": 198,
   "id": "b33d2427-8217-4b57-b8dd-e3aae988d385",
   "metadata": {},
   "outputs": [],
   "source": [
    "spark.sparkContext.stop()"
   ]
  },
  {
   "cell_type": "code",
   "execution_count": 199,
   "id": "6b6879b5-c91a-4a02-bc06-4556553c4a21",
   "metadata": {},
   "outputs": [
    {
     "name": "stderr",
     "output_type": "stream",
     "text": [
      "25/05/18 15:47:15 WARN Utils: Service 'SparkUI' could not bind on port 4040. Attempting port 4041.\n",
      "25/05/18 15:47:15 WARN Client: Neither spark.yarn.jars nor spark.yarn.archive is set, falling back to uploading libraries under SPARK_HOME.\n"
     ]
    }
   ],
   "source": [
    "spark = SparkSession.builder.getOrCreate()\n",
    "spark.stop()"
   ]
  },
  {
   "cell_type": "code",
   "execution_count": null,
   "id": "b563579f-df4a-41b3-8378-8d5506e2f6e6",
   "metadata": {},
   "outputs": [],
   "source": []
  }
 ],
 "metadata": {
  "kernelspec": {
   "display_name": "Pyspark 3.11",
   "language": "python",
   "name": "python3.11"
  },
  "language_info": {
   "codemirror_mode": {
    "name": "ipython",
    "version": 3
   },
   "file_extension": ".py",
   "mimetype": "text/x-python",
   "name": "python",
   "nbconvert_exporter": "python",
   "pygments_lexer": "ipython3",
   "version": "3.11.7"
  }
 },
 "nbformat": 4,
 "nbformat_minor": 5
}
